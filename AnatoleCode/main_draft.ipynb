{
 "cells": [
  {
   "cell_type": "code",
   "execution_count": 11,
   "metadata": {},
   "outputs": [],
   "source": [
    "import yaml\n",
    "import pandas as pd\n",
    "import tapo_p110_measurement as p110\n",
    "from octoprint_api import get_octoprint_response\n",
    "from scipy.stats import qmc\n",
    "from pyDOE3 import fracfact_by_res\n",
    "from tapo_p110_measurement import p110_device\n",
    "import os\n",
    "from scipy.integrate import trapezoid\n",
    "import pyDOE3\n",
    "import numpy as np"
   ]
  },
  {
   "cell_type": "code",
   "execution_count": 12,
   "metadata": {},
   "outputs": [],
   "source": [
    "# Read config\n",
    "with open('config.yaml', 'r') as file:\n",
    "    config = yaml.safe_load(file)"
   ]
  },
  {
   "cell_type": "code",
   "execution_count": 13,
   "metadata": {},
   "outputs": [
    {
     "ename": "ValueError",
     "evalue": "invalid literal for int() with base 10: '129.13.235.157'",
     "output_type": "error",
     "traceback": [
      "\u001b[1;31m---------------------------------------------------------------------------\u001b[0m",
      "\u001b[1;31mValueError\u001b[0m                                Traceback (most recent call last)",
      "Cell \u001b[1;32mIn[13], line 6\u001b[0m\n\u001b[0;32m      1\u001b[0m \u001b[38;5;66;03m# Set up data recorders\u001b[39;00m\n\u001b[0;32m      2\u001b[0m \u001b[38;5;66;03m# input(\"Please start the Raspberry recorder.\\n\\\u001b[39;00m\n\u001b[0;32m      3\u001b[0m \u001b[38;5;66;03m#       Press enter to continue...\")\u001b[39;00m\n\u001b[1;32m----> 6\u001b[0m energy_consumption_sensor \u001b[38;5;241m=\u001b[39m \u001b[43mp110\u001b[49m\u001b[38;5;241;43m.\u001b[39;49m\u001b[43mp110_device\u001b[49m\u001b[43m(\u001b[49m\u001b[43mconfig\u001b[49m\u001b[43m[\u001b[49m\u001b[38;5;124;43m\"\u001b[39;49m\u001b[38;5;124;43msensor\u001b[39;49m\u001b[38;5;124;43m\"\u001b[39;49m\u001b[43m]\u001b[49m\u001b[43m[\u001b[49m\u001b[38;5;124;43m\"\u001b[39;49m\u001b[38;5;124;43mcurrent\u001b[39;49m\u001b[38;5;124;43m\"\u001b[39;49m\u001b[43m]\u001b[49m\u001b[43m[\u001b[49m\u001b[38;5;124;43m\"\u001b[39;49m\u001b[38;5;124;43mfrequency\u001b[39;49m\u001b[38;5;124;43m\"\u001b[39;49m\u001b[43m]\u001b[49m\u001b[43m,\u001b[49m\n\u001b[0;32m      7\u001b[0m \u001b[43m                                             \u001b[49m\u001b[43mconfig\u001b[49m\u001b[43m[\u001b[49m\u001b[38;5;124;43m\"\u001b[39;49m\u001b[38;5;124;43msensor\u001b[39;49m\u001b[38;5;124;43m\"\u001b[39;49m\u001b[43m]\u001b[49m\u001b[43m[\u001b[49m\u001b[38;5;124;43m\"\u001b[39;49m\u001b[38;5;124;43mcurrent\u001b[39;49m\u001b[38;5;124;43m\"\u001b[39;49m\u001b[43m]\u001b[49m\u001b[43m[\u001b[49m\u001b[38;5;124;43m\"\u001b[39;49m\u001b[38;5;124;43musername\u001b[39;49m\u001b[38;5;124;43m\"\u001b[39;49m\u001b[43m]\u001b[49m\u001b[43m,\u001b[49m\n\u001b[0;32m      8\u001b[0m \u001b[43m                                             \u001b[49m\u001b[43mconfig\u001b[49m\u001b[43m[\u001b[49m\u001b[38;5;124;43m\"\u001b[39;49m\u001b[38;5;124;43msensor\u001b[39;49m\u001b[38;5;124;43m\"\u001b[39;49m\u001b[43m]\u001b[49m\u001b[43m[\u001b[49m\u001b[38;5;124;43m\"\u001b[39;49m\u001b[38;5;124;43mcurrent\u001b[39;49m\u001b[38;5;124;43m\"\u001b[39;49m\u001b[43m]\u001b[49m\u001b[43m[\u001b[49m\u001b[38;5;124;43m\"\u001b[39;49m\u001b[38;5;124;43mpassword\u001b[39;49m\u001b[38;5;124;43m\"\u001b[39;49m\u001b[43m]\u001b[49m\u001b[43m,\u001b[49m\n\u001b[0;32m      9\u001b[0m \u001b[43m                                             \u001b[49m\u001b[43mconfig\u001b[49m\u001b[43m[\u001b[49m\u001b[38;5;124;43m\"\u001b[39;49m\u001b[38;5;124;43msensor\u001b[39;49m\u001b[38;5;124;43m\"\u001b[39;49m\u001b[43m]\u001b[49m\u001b[43m[\u001b[49m\u001b[38;5;124;43m\"\u001b[39;49m\u001b[38;5;124;43mcurrent\u001b[39;49m\u001b[38;5;124;43m\"\u001b[39;49m\u001b[43m]\u001b[49m\u001b[43m[\u001b[49m\u001b[38;5;124;43m\"\u001b[39;49m\u001b[38;5;124;43mip\u001b[39;49m\u001b[38;5;124;43m\"\u001b[39;49m\u001b[43m]\u001b[49m\u001b[43m)\u001b[49m\n\u001b[0;32m     11\u001b[0m \u001b[38;5;28;01mwhile\u001b[39;00m \u001b[38;5;28;01mTrue\u001b[39;00m:\n\u001b[0;32m     12\u001b[0m     operational,data\u001b[38;5;241m=\u001b[39mget_octoprint_response()\n",
      "File \u001b[1;32md:\\anato\\Documents\\KIT\\GitLabRepositories\\prusa_mk4\\PrintingParametersOptimizer\\tapo_p110_measurement.py:12\u001b[0m, in \u001b[0;36mp110_device.__init__\u001b[1;34m(self, tapo_username, tapo_password, ip_address, frequency)\u001b[0m\n\u001b[0;32m     10\u001b[0m \u001b[38;5;28;01mdef\u001b[39;00m \u001b[38;5;21m__init__\u001b[39m(\u001b[38;5;28mself\u001b[39m, tapo_username, tapo_password, ip_address, frequency\u001b[38;5;241m=\u001b[39m\u001b[38;5;241m1\u001b[39m):\n\u001b[0;32m     11\u001b[0m     \u001b[38;5;28mself\u001b[39m\u001b[38;5;241m.\u001b[39mfrequency \u001b[38;5;241m=\u001b[39m frequency\n\u001b[1;32m---> 12\u001b[0m     \u001b[38;5;28mself\u001b[39m\u001b[38;5;241m.\u001b[39minterval \u001b[38;5;241m=\u001b[39m \u001b[38;5;241m1\u001b[39m \u001b[38;5;241m/\u001b[39m \u001b[38;5;28;43mint\u001b[39;49m\u001b[43m(\u001b[49m\u001b[43mfrequency\u001b[49m\u001b[43m)\u001b[49m\n\u001b[0;32m     13\u001b[0m     \u001b[38;5;28mself\u001b[39m\u001b[38;5;241m.\u001b[39mtapo_username \u001b[38;5;241m=\u001b[39m tapo_username\n\u001b[0;32m     14\u001b[0m     \u001b[38;5;28mself\u001b[39m\u001b[38;5;241m.\u001b[39mtapo_password \u001b[38;5;241m=\u001b[39m tapo_password\n",
      "\u001b[1;31mValueError\u001b[0m: invalid literal for int() with base 10: '129.13.235.157'"
     ]
    }
   ],
   "source": [
    "# Set up data recorders\n",
    "# input(\"Please start the Raspberry recorder.\\n\\\n",
    "#       Press enter to continue...\")\n",
    "\n",
    "\n",
    "energy_consumption_sensor = p110.p110_device(config[\"sensor\"][\"current\"][\"frequency\"],\n",
    "                                             config[\"sensor\"][\"current\"][\"username\"],\n",
    "                                             config[\"sensor\"][\"current\"][\"password\"],\n",
    "                                             config[\"sensor\"][\"current\"][\"ip\"])\n",
    "\n",
    "while True:\n",
    "    operational,data=get_octoprint_response()\n",
    "    print(operational)\n",
    "\n",
    "    while not operational:\n",
    "        operational,data=get_octoprint_response()\n",
    "    state=data[\"state\"]\n",
    "    name=data[\"job\"][\"file\"][\"name\"]\n",
    "\n",
    "    # start measurement if the name changes otherwise let the measurement run\n",
    "    if name != initial_name and state==\"Printing\":\n",
    "        slicer_settings_name,filename_pre=name.rsplit('_',1) # slicer_settings_standard_filename.gcode --> slicer_settings_standard , filename.gcode\n",
    "        filename_final,_ = os.path.splitext(filename_pre) # filename.gcode --> filename , .gcode\n",
    "        energy_consumption_sensor.start(filename_final+\".csv\")\n",
    "        initial_name=name\n",
    "        print(\"Started measuring\")\n",
    "        \n",
    "    \n",
    "    elif state!=\"Printing\":\n",
    "        print (\"Stopped measuring\")\n",
    "        energy_consumption_sensor.stop()\n",
    "    \n",
    "        \n",
    "    else:\n",
    "        pass\n",
    "#for experiment in experiments:\n",
    "# while not \n",
    "\n",
    "\n",
    "energy_consumption_sensor.start()\n"
   ]
  },
  {
   "cell_type": "code",
   "execution_count": null,
   "metadata": {},
   "outputs": [
    {
     "data": {
      "text/plain": [
       "{'experiments': {'parameter_bounds': {'infill_density': [20, 50],\n",
       "   'printing_temperature': [205, 225],\n",
       "   'build_plate_temperature': [50, 70],\n",
       "   'layer_height': [0.1, 0.3],\n",
       "   'print_speed': [50, 100]}},\n",
       " 'database': None,\n",
       " 'sensor': {'current': {'frequency': 1,\n",
       "   'username': 'svenja.hauck@kit.edu',\n",
       "   'password': 'testpw12',\n",
       "   'ip': '129.13.235.157'}},\n",
       " 'settings': {'debug': True, 'log_level': 'INFO'}}"
      ]
     },
     "execution_count": 3,
     "metadata": {},
     "output_type": "execute_result"
    }
   ],
   "source": [
    "config"
   ]
  },
  {
   "cell_type": "code",
   "execution_count": null,
   "metadata": {},
   "outputs": [],
   "source": [
    "p110 = p110_device(config[\"sensor\"][\"current\"][\"username\"],\n",
    "                   config[\"sensor\"][\"current\"][\"password\"],\n",
    "                   config[\"sensor\"][\"current\"][\"ip\"]\n",
    "                   )"
   ]
  },
  {
   "cell_type": "code",
   "execution_count": null,
   "metadata": {},
   "outputs": [
    {
     "name": "stdout",
     "output_type": "stream",
     "text": [
      "Energy recording started\n"
     ]
    },
    {
     "name": "stderr",
     "output_type": "stream",
     "text": [
      "c:\\Users\\anato\\anaconda3\\envs\\KIT_3D\\Lib\\threading.py:1010: RuntimeWarning: coroutine 'p110_device.capture_data' was never awaited\n",
      "  self._target(*self._args, **self._kwargs)\n",
      "RuntimeWarning: Enable tracemalloc to get the object allocation traceback\n"
     ]
    }
   ],
   "source": [
    "p110.start('test.csv')"
   ]
  },
  {
   "cell_type": "markdown",
   "metadata": {},
   "source": [
    "# Parameters sampling\n",
    "___"
   ]
  },
  {
   "cell_type": "code",
   "execution_count": null,
   "metadata": {},
   "outputs": [
    {
     "data": {
      "text/plain": [
       "{'experiments': {'parameter_bounds': {'infill_density': [20, 50],\n",
       "   'printing_temperature': [205, 225],\n",
       "   'build_plate_temperature': [50, 70],\n",
       "   'layer_height': [0.1, 0.3],\n",
       "   'print_speed': [50, 100]}},\n",
       " 'database': None,\n",
       " 'sensor': {'current': {'frequency': 1,\n",
       "   'username': 'svenja.hauck@kit.edu',\n",
       "   'password': 'testpw12',\n",
       "   'ip': '129.13.235.157'}},\n",
       " 'settings': {'debug': True, 'log_level': 'INFO'}}"
      ]
     },
     "execution_count": 3,
     "metadata": {},
     "output_type": "execute_result"
    }
   ],
   "source": [
    "# Read config\n",
    "with open('config.yaml', 'r') as file:\n",
    "    config = yaml.safe_load(file)\n",
    "config"
   ]
  },
  {
   "cell_type": "code",
   "execution_count": null,
   "metadata": {},
   "outputs": [
    {
     "name": "stdout",
     "output_type": "stream",
     "text": [
      "[[20, 50], [205, 225], [50, 70], [0.1, 0.3], [50, 100]]\n"
     ]
    }
   ],
   "source": [
    "bounds_values = list(config['experiments']['parameter_bounds'].values())\n",
    "print(bounds_values)"
   ]
  },
  {
   "cell_type": "code",
   "execution_count": 6,
   "metadata": {},
   "outputs": [],
   "source": [
    "# LHS Samples\n",
    "def get_lhs_points(bounds, n):\n",
    "    dimension = len(bounds)\n",
    "\n",
    "    sampler = qmc.LatinHypercube(dimension, scramble=False)\n",
    "    samples = sampler.random(n)\n",
    "\n",
    "    # Samples still scale with the bounds so that we can actually get usable parameter values\n",
    "    lower_bound = [b[0] for b in bounds] \n",
    "    upper_bound = [b[1] for b in bounds]\n",
    "\n",
    "    return qmc.scale(samples, lower_bound, upper_bound)"
   ]
  },
  {
   "cell_type": "code",
   "execution_count": null,
   "metadata": {},
   "outputs": [
    {
     "name": "stdout",
     "output_type": "stream",
     "text": [
      "[[6.56250e-01 4.43750e+01 2.16875e+02 4.62500e+01 1.62500e-01 5.12500e+01]\n",
      " [7.68750e-01 3.68750e+01 2.24375e+02 5.62500e+01 2.12500e-01 7.37500e+01]\n",
      " [1.21875e+00 2.56250e+01 2.01875e+02 4.87500e+01 2.62500e-01 5.87500e+01]\n",
      " [8.81250e-01 4.06250e+01 2.28125e+02 5.37500e+01 1.37500e-01 8.12500e+01]\n",
      " [1.33125e+00 2.93750e+01 2.05625e+02 5.87500e+01 1.87500e-01 4.37500e+01]\n",
      " [1.44375e+00 4.81250e+01 2.13125e+02 4.12500e+01 1.12500e-01 6.62500e+01]\n",
      " [9.93750e-01 2.18750e+01 2.20625e+02 5.12500e+01 2.87500e-01 8.87500e+01]\n",
      " [1.10625e+00 3.31250e+01 2.09375e+02 4.37500e+01 2.37500e-01 9.62500e+01]]\n"
     ]
    }
   ],
   "source": [
    "lhs_points = get_lhs_points(bounds_values, 8)\n",
    "print(lhs_points)\n",
    "import pandas as pd\n",
    "df_lhs=pd.DataFrame(lhs_points)"
   ]
  },
  {
   "cell_type": "code",
   "execution_count": null,
   "metadata": {},
   "outputs": [],
   "source": [
    "df_lhs.to_excel(\"lhs.xlsx\")"
   ]
  },
  {
   "cell_type": "code",
   "execution_count": null,
   "metadata": {},
   "outputs": [
    {
     "data": {
      "text/plain": [
       "[[0.76875, 36.875, 228.125, 48.75, 0.26249999999999996, 81.25],\n",
       " [0.65625, 33.125, 205.625, 51.25, 0.2125, 66.25],\n",
       " [0.88125, 48.125, 220.625, 46.25, 0.1375, 51.25],\n",
       " [1.33125, 40.625, 201.875, 56.25, 0.1875, 43.75],\n",
       " [1.10625, 21.875, 216.875, 43.75, 0.1625, 88.75],\n",
       " [0.9937499999999999, 25.625, 209.375, 53.75, 0.2375, 58.75],\n",
       " [1.44375, 29.375, 224.375, 58.75, 0.1125, 96.25],\n",
       " [1.21875, 44.375, 213.125, 41.25, 0.2875, 73.75]]"
      ]
     },
     "execution_count": 28,
     "metadata": {},
     "output_type": "execute_result"
    }
   ],
   "source": [
    "lhs_points.tolist()"
   ]
  },
  {
   "cell_type": "code",
   "execution_count": 8,
   "metadata": {},
   "outputs": [],
   "source": [
    "#FRAC FACT SAMPLES, means fractional factorial see\n",
    "# The Pydoe3 Library and its functionality for the\n",
    "# Creation of fractional-factorial designs.So it will be one\n",
    "# Subsetted of all possible marginal values ​​used.(For more information see:\n",
    "# https://pydoe3.readthedocs.io/en/latest/factorial.html#fractional-factorial)\n",
    "def get_edge_points(bounds):\n",
    "    parameters_to_test = []\n",
    "    dimension = len(bounds)\n",
    "\n",
    "    samples = fracfact_by_res(dimension, 3)\n",
    "\n",
    "   # Select the bounds that correspond to the samples of the design (-1 means the lower and 1 upper limit)\n",
    "# so that we can actually get usable parameter sets\n",
    "    lower_bounds = [b[0] for b in bounds]\n",
    "    upper_bounds = [b[1] for b in bounds]\n",
    "    for sample in samples:\n",
    "        edge_sample = []\n",
    "        for i in range(dimension):\n",
    "            if sample[i] == -1:\n",
    "                edge_sample.append(lower_bounds[i])\n",
    "            elif sample[i] == 1:\n",
    "                edge_sample.append(upper_bounds[i])\n",
    "        parameters_to_test.append(edge_sample)\n",
    "\n",
    "    return parameters_to_test"
   ]
  },
  {
   "cell_type": "code",
   "execution_count": null,
   "metadata": {},
   "outputs": [
    {
     "name": "stdout",
     "output_type": "stream",
     "text": [
      "[[20, 205, 50, 0.3, 100], [50, 205, 50, 0.1, 50], [20, 225, 50, 0.1, 100], [50, 225, 50, 0.3, 50], [20, 205, 70, 0.3, 50], [50, 205, 70, 0.1, 100], [20, 225, 70, 0.1, 50], [50, 225, 70, 0.3, 100]]\n"
     ]
    }
   ],
   "source": [
    "doe_points = get_edge_points(bounds_values)\n",
    "print(doe_points)\n",
    "df_doe=pd.DataFrame(doe_points)\n",
    "df_doe.to_excel(\"doe.xlsx\")"
   ]
  },
  {
   "cell_type": "markdown",
   "metadata": {},
   "source": [
    "___"
   ]
  },
  {
   "cell_type": "code",
   "execution_count": null,
   "metadata": {},
   "outputs": [
    {
     "data": {
      "text/plain": [
       "[[20, 50], [200, 230], [40, 60], [0.1, 0.3], [40, 100]]"
      ]
     },
     "execution_count": 57,
     "metadata": {},
     "output_type": "execute_result"
    }
   ],
   "source": [
    "len(bounds_values)\n",
    "bounds_values"
   ]
  },
  {
   "cell_type": "code",
   "execution_count": 26,
   "metadata": {},
   "outputs": [
    {
     "data": {
      "text/plain": [
       "True"
      ]
     },
     "execution_count": 26,
     "metadata": {},
     "output_type": "execute_result"
    }
   ],
   "source": [
    "fracfact_by_res(5,3).shape\n",
    "frac = fracfact_by_res(5,3)\n",
    "np.all(pyDOE3.fracfact('a b c ab ac')==frac)"
   ]
  },
  {
   "cell_type": "code",
   "execution_count": 24,
   "metadata": {},
   "outputs": [
    {
     "data": {
      "text/plain": [
       "array([[-1., -1., -1.,  1.,  1.],\n",
       "       [ 1., -1., -1., -1., -1.],\n",
       "       [-1.,  1., -1., -1.,  1.],\n",
       "       [ 1.,  1., -1.,  1., -1.],\n",
       "       [-1., -1.,  1.,  1., -1.],\n",
       "       [ 1., -1.,  1., -1.,  1.],\n",
       "       [-1.,  1.,  1., -1., -1.],\n",
       "       [ 1.,  1.,  1.,  1.,  1.]])"
      ]
     },
     "execution_count": 24,
     "metadata": {},
     "output_type": "execute_result"
    }
   ],
   "source": [
    "pyDOE3.fracfact('a b c ab ac')"
   ]
  },
  {
   "cell_type": "markdown",
   "metadata": {},
   "source": [
    "# Compute energy consumption of a print\n",
    "___"
   ]
  },
  {
   "cell_type": "code",
   "execution_count": 3,
   "metadata": {},
   "outputs": [
    {
     "data": {
      "text/html": [
       "<div>\n",
       "<style scoped>\n",
       "    .dataframe tbody tr th:only-of-type {\n",
       "        vertical-align: middle;\n",
       "    }\n",
       "\n",
       "    .dataframe tbody tr th {\n",
       "        vertical-align: top;\n",
       "    }\n",
       "\n",
       "    .dataframe thead th {\n",
       "        text-align: right;\n",
       "    }\n",
       "</style>\n",
       "<table border=\"1\" class=\"dataframe\">\n",
       "  <thead>\n",
       "    <tr style=\"text-align: right;\">\n",
       "      <th></th>\n",
       "      <th>current_power</th>\n",
       "      <th>local_time</th>\n",
       "      <th>month_energy</th>\n",
       "      <th>month_runtime</th>\n",
       "      <th>today_energy</th>\n",
       "      <th>today_runtime</th>\n",
       "    </tr>\n",
       "  </thead>\n",
       "  <tbody>\n",
       "    <tr>\n",
       "      <th>0</th>\n",
       "      <td>75212</td>\n",
       "      <td>2024-07-03T10:45:03</td>\n",
       "      <td>3705</td>\n",
       "      <td>3525</td>\n",
       "      <td>182</td>\n",
       "      <td>645</td>\n",
       "    </tr>\n",
       "    <tr>\n",
       "      <th>1</th>\n",
       "      <td>75212</td>\n",
       "      <td>2024-07-03T10:45:04</td>\n",
       "      <td>3705</td>\n",
       "      <td>3525</td>\n",
       "      <td>182</td>\n",
       "      <td>645</td>\n",
       "    </tr>\n",
       "    <tr>\n",
       "      <th>2</th>\n",
       "      <td>84806</td>\n",
       "      <td>2024-07-03T10:45:06</td>\n",
       "      <td>3705</td>\n",
       "      <td>3525</td>\n",
       "      <td>182</td>\n",
       "      <td>645</td>\n",
       "    </tr>\n",
       "    <tr>\n",
       "      <th>3</th>\n",
       "      <td>84806</td>\n",
       "      <td>2024-07-03T10:45:07</td>\n",
       "      <td>3705</td>\n",
       "      <td>3525</td>\n",
       "      <td>182</td>\n",
       "      <td>645</td>\n",
       "    </tr>\n",
       "    <tr>\n",
       "      <th>4</th>\n",
       "      <td>84806</td>\n",
       "      <td>2024-07-03T10:45:08</td>\n",
       "      <td>3705</td>\n",
       "      <td>3525</td>\n",
       "      <td>182</td>\n",
       "      <td>645</td>\n",
       "    </tr>\n",
       "    <tr>\n",
       "      <th>...</th>\n",
       "      <td>...</td>\n",
       "      <td>...</td>\n",
       "      <td>...</td>\n",
       "      <td>...</td>\n",
       "      <td>...</td>\n",
       "      <td>...</td>\n",
       "    </tr>\n",
       "    <tr>\n",
       "      <th>145</th>\n",
       "      <td>24791</td>\n",
       "      <td>2024-07-03T10:48:00</td>\n",
       "      <td>3710</td>\n",
       "      <td>3528</td>\n",
       "      <td>187</td>\n",
       "      <td>648</td>\n",
       "    </tr>\n",
       "    <tr>\n",
       "      <th>146</th>\n",
       "      <td>24791</td>\n",
       "      <td>2024-07-03T10:48:01</td>\n",
       "      <td>3710</td>\n",
       "      <td>3528</td>\n",
       "      <td>187</td>\n",
       "      <td>648</td>\n",
       "    </tr>\n",
       "    <tr>\n",
       "      <th>147</th>\n",
       "      <td>24791</td>\n",
       "      <td>2024-07-03T10:48:02</td>\n",
       "      <td>3710</td>\n",
       "      <td>3528</td>\n",
       "      <td>187</td>\n",
       "      <td>648</td>\n",
       "    </tr>\n",
       "    <tr>\n",
       "      <th>148</th>\n",
       "      <td>24648</td>\n",
       "      <td>2024-07-03T10:48:03</td>\n",
       "      <td>3710</td>\n",
       "      <td>3528</td>\n",
       "      <td>187</td>\n",
       "      <td>648</td>\n",
       "    </tr>\n",
       "    <tr>\n",
       "      <th>149</th>\n",
       "      <td>24648</td>\n",
       "      <td>2024-07-03T10:48:04</td>\n",
       "      <td>3710</td>\n",
       "      <td>3528</td>\n",
       "      <td>187</td>\n",
       "      <td>648</td>\n",
       "    </tr>\n",
       "  </tbody>\n",
       "</table>\n",
       "<p>150 rows × 6 columns</p>\n",
       "</div>"
      ],
      "text/plain": [
       "     current_power           local_time  month_energy  month_runtime  \\\n",
       "0            75212  2024-07-03T10:45:03          3705           3525   \n",
       "1            75212  2024-07-03T10:45:04          3705           3525   \n",
       "2            84806  2024-07-03T10:45:06          3705           3525   \n",
       "3            84806  2024-07-03T10:45:07          3705           3525   \n",
       "4            84806  2024-07-03T10:45:08          3705           3525   \n",
       "..             ...                  ...           ...            ...   \n",
       "145          24791  2024-07-03T10:48:00          3710           3528   \n",
       "146          24791  2024-07-03T10:48:01          3710           3528   \n",
       "147          24791  2024-07-03T10:48:02          3710           3528   \n",
       "148          24648  2024-07-03T10:48:03          3710           3528   \n",
       "149          24648  2024-07-03T10:48:04          3710           3528   \n",
       "\n",
       "     today_energy  today_runtime  \n",
       "0             182            645  \n",
       "1             182            645  \n",
       "2             182            645  \n",
       "3             182            645  \n",
       "4             182            645  \n",
       "..            ...            ...  \n",
       "145           187            648  \n",
       "146           187            648  \n",
       "147           187            648  \n",
       "148           187            648  \n",
       "149           187            648  \n",
       "\n",
       "[150 rows x 6 columns]"
      ]
     },
     "execution_count": 3,
     "metadata": {},
     "output_type": "execute_result"
    }
   ],
   "source": [
    "df = pd.read_csv(\"stringing2_impossiblecube.csv\")\n",
    "df"
   ]
  },
  {
   "cell_type": "code",
   "execution_count": 14,
   "metadata": {},
   "outputs": [
    {
     "ename": "NameError",
     "evalue": "name 'df' is not defined",
     "output_type": "error",
     "traceback": [
      "\u001b[1;31m---------------------------------------------------------------------------\u001b[0m",
      "\u001b[1;31mNameError\u001b[0m                                 Traceback (most recent call last)",
      "Cell \u001b[1;32mIn[14], line 1\u001b[0m\n\u001b[1;32m----> 1\u001b[0m df[\u001b[38;5;124m\"\u001b[39m\u001b[38;5;124mlocal_time\u001b[39m\u001b[38;5;124m\"\u001b[39m] \u001b[38;5;241m=\u001b[39m pd\u001b[38;5;241m.\u001b[39mto_datetime(\u001b[43mdf\u001b[49m[\u001b[38;5;124m\"\u001b[39m\u001b[38;5;124mlocal_time\u001b[39m\u001b[38;5;124m\"\u001b[39m])\n\u001b[0;32m      2\u001b[0m df\u001b[38;5;241m.\u001b[39mlocal_time\n",
      "\u001b[1;31mNameError\u001b[0m: name 'df' is not defined"
     ]
    }
   ],
   "source": [
    "df[\"local_time\"] = pd.to_datetime(df[\"local_time\"])\n",
    "df.local_time"
   ]
  },
  {
   "cell_type": "code",
   "execution_count": 7,
   "metadata": {},
   "outputs": [
    {
     "name": "stdout",
     "output_type": "stream",
     "text": [
      "[  0.   1.   3.   4.   5.   6.   7.   9.  10.  11.  12.  14.  15.  16.\n",
      "  18.  19.  20.  21.  23.  24.  25.  26.  28.  29.  30.  31.  33.  34.\n",
      "  35.  37.  38.  39.  40.  41.  43.  44.  45.  46.  48.  49.  50.  51.\n",
      "  52.  54.  55.  56.  58.  59.  60.  61.  63.  64.  65.  66.  68.  69.\n",
      "  70.  71.  73.  74.  75.  76.  78.  79.  80.  81.  82.  84.  85.  86.\n",
      "  87.  89.  90.  91.  92.  93.  95.  96.  97.  98. 100. 102. 103. 104.\n",
      " 106. 107. 108. 110. 111. 112. 113. 114. 116. 117. 118. 119. 121. 122.\n",
      " 123. 124. 125. 127. 128. 129. 130. 131. 132. 133. 134. 136. 137. 138.\n",
      " 140. 141. 142. 143. 144. 146. 147. 148. 149. 150. 151. 152. 154. 155.\n",
      " 156. 157. 158. 159. 160. 162. 163. 164. 165. 166. 167. 168. 169. 170.\n",
      " 172. 173. 174. 175. 176. 177. 178. 179. 180. 181.]\n"
     ]
    }
   ],
   "source": [
    "first_timestamp = df['local_time'].iloc[0]\n",
    "df['timedelta_seconds'] = (df['local_time'] - first_timestamp).dt.total_seconds()\n",
    "print(df.timedelta_seconds.unique())"
   ]
  },
  {
   "cell_type": "code",
   "execution_count": 8,
   "metadata": {},
   "outputs": [
    {
     "name": "stdout",
     "output_type": "stream",
     "text": [
      "4.680560694444444\n"
     ]
    }
   ],
   "source": [
    "energy_in_mWs = trapezoid(df.current_power,df.timedelta_seconds)\n",
    "energy_in_Wh = energy_in_mWs/(1e3*3600) # mWs -> Wh\n",
    "print(energy_in_Wh)"
   ]
  },
  {
   "cell_type": "code",
   "execution_count": 9,
   "metadata": {},
   "outputs": [
    {
     "name": "stdout",
     "output_type": "stream",
     "text": [
      "The print took around 4.681Wh of energy, or 16850.018J in 181 seconds\n"
     ]
    }
   ],
   "source": [
    "rough_energy_estimation=df.current_power.sum()/(1e3*3600)\n",
    "print(f'The print took around {round(energy_in_Wh,3)}Wh of energy, or {round(energy_in_Wh*3600,3)}J in {int(df.timedelta_seconds.iloc[-1])} seconds')"
   ]
  },
  {
   "cell_type": "markdown",
   "metadata": {},
   "source": [
    "___"
   ]
  }
 ],
 "metadata": {
  "kernelspec": {
   "display_name": "KIT_3D",
   "language": "python",
   "name": "python3"
  },
  "language_info": {
   "codemirror_mode": {
    "name": "ipython",
    "version": 3
   },
   "file_extension": ".py",
   "mimetype": "text/x-python",
   "name": "python",
   "nbconvert_exporter": "python",
   "pygments_lexer": "ipython3",
   "version": "3.12.3"
  }
 },
 "nbformat": 4,
 "nbformat_minor": 2
}
